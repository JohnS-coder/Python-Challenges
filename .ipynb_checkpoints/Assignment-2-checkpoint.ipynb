{
 "cells": [
  {
   "cell_type": "code",
   "execution_count": 3,
   "metadata": {},
   "outputs": [
    {
     "name": "stdout",
     "output_type": "stream",
     "text": [
      "Are you a cigarette addict older than 75 years old? (yes/no): no\n",
      "Do you have a severe chronic disease? (yes/no): no\n",
      "Is your immune system too weak? (yes/no): yes\n",
      "You are in risky group\n"
     ]
    }
   ],
   "source": [
    "age = True if input(\"Are you a cigarette addict older than 75 years old? (yes/no): \") == \"yes\" else False\n",
    "chronic = True if input(\"Do you have a severe chronic disease? (yes/no): \") == \"yes\" else False\n",
    "immune = True if input(\"Is your immune system too weak? (yes/no): \") == \"yes\" else False\n",
    "risk = True if age or chronic or immune == True else False\n",
    "print(\"You are in risky group\" if risk == True else \"You are not in risky group\")"
   ]
  }
 ],
 "metadata": {
  "kernelspec": {
   "display_name": "Python 3",
   "language": "python",
   "name": "python3"
  },
  "language_info": {
   "codemirror_mode": {
    "name": "ipython",
    "version": 3
   },
   "file_extension": ".py",
   "mimetype": "text/x-python",
   "name": "python",
   "nbconvert_exporter": "python",
   "pygments_lexer": "ipython3",
   "version": "3.7.6"
  }
 },
 "nbformat": 4,
 "nbformat_minor": 4
}
